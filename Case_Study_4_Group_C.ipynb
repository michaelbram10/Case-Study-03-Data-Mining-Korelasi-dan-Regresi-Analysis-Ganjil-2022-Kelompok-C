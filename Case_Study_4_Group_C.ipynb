{
  "nbformat": 4,
  "nbformat_minor": 0,
  "metadata": {
    "colab": {
      "provenance": [],
      "toc_visible": true,
      "include_colab_link": true
    },
    "kernelspec": {
      "name": "python3",
      "display_name": "Python 3"
    },
    "language_info": {
      "name": "python"
    }
  },
  "cells": [
    {
      "cell_type": "markdown",
      "metadata": {
        "id": "view-in-github",
        "colab_type": "text"
      },
      "source": [
        "<a href=\"https://colab.research.google.com/github/michaelbram10/Case-Study-04-Data-Mining-Korelasi-dan-Regresi-Ganjil-2022-Kelompok-C/blob/main/Case_Study_4_Group_C.ipynb\" target=\"_parent\"><img src=\"https://colab.research.google.com/assets/colab-badge.svg\" alt=\"Open In Colab\"/></a>"
      ]
    },
    {
      "cell_type": "markdown",
      "source": [
        "# **Group C:**\n",
        "1. Benedicta Winni Lisachritanty (1906299446)\n",
        "2. Fadhilah Daffa Yoriko (2006571116)\n",
        "3. Hafsa Khaerunisa Wenno (1906354173)\n",
        "4. Michael Mario Bramanthyo Adhi (1906299534)\n",
        "5. Nathanael Andrian Patrick (1906375713)\n",
        "6. Naufal Fachri Muhammad (2006533710)\n",
        "7. Reynee Joyvina Freeina Anthonia (2006485024)"
      ],
      "metadata": {
        "id": "sqIoUkxh44GE"
      }
    },
    {
      "cell_type": "markdown",
      "source": [
        "# Problem Statement"
      ],
      "metadata": {
        "id": "4cgaTzzf6gCY"
      }
    },
    {
      "cell_type": "markdown",
      "source": [
        "## [Ashrae Energy](https://www.ashrae.org/)\n",
        "\n",
        "- Assessing the value of energy efficiency improvements can be challenging as there's no way to truly know how much energy a building would have used without the improvements. The best we can do is to build counterfactual models. Once a building is overhauled the new (lower) energy consumption is compared against modeled values for the original building to calculate the savings from the retrofit. More accurate models could support better market incentives and enable lower cost financing.\n",
        "- The challenge is to build these counterfactual models across four energy types based on historic usage rates and observed weather. The dataset includes three years of hourly meter readings from over one thousand buildings at several different sites around the world.\n",
        "\n",
        "Additional Information:\n",
        "- Data adalah \"modifikasi\" (Wrangling) dari data asli yang bersumber dari PT Ashrae : https://www.kaggle.com/competitions/ashrae-energy-prediction/data\n",
        "- Permasalahan dan data understanding sama dengan asal data. Perbedaan data yang akan digunakan pada studi kasus kita adalah data yang akan digunakan adalah \"rata-rata\" penggunaan energi listrik dari berbagai gedung ( tidak lagi time-series / bergantung waktu)."
      ],
      "metadata": {
        "id": "nMbM16kA6sxM"
      }
    },
    {
      "cell_type": "markdown",
      "source": [
        "## Main Focus\n",
        "\n",
        "1. Bagaimana cara meningkatkan efisiensi dalam penggunaan energi untuk suatu bangunan?"
      ],
      "metadata": {
        "id": "I3NzSPzj6hvn"
      }
    },
    {
      "cell_type": "markdown",
      "source": [
        "# Data Pre-Processing"
      ],
      "metadata": {
        "id": "fbBjYdmv7V8i"
      }
    },
    {
      "cell_type": "markdown",
      "source": [
        "## Detecting and Handling Noise"
      ],
      "metadata": {
        "id": "1iWGzN9P7YGB"
      }
    },
    {
      "cell_type": "markdown",
      "source": [
        "## Detecting and Handling Missing Values"
      ],
      "metadata": {
        "id": "SZYV6CMe7jZa"
      }
    },
    {
      "cell_type": "markdown",
      "source": [
        "## Data Types Correction"
      ],
      "metadata": {
        "id": "j4N_612v7mFT"
      }
    },
    {
      "cell_type": "markdown",
      "source": [
        "# Exploratory Data Analysis (EDA)"
      ],
      "metadata": {
        "id": "ic7hPEDz7oxe"
      }
    },
    {
      "cell_type": "markdown",
      "source": [
        "## Detecting Outliers"
      ],
      "metadata": {
        "id": "6Vv879wQ7rxH"
      }
    },
    {
      "cell_type": "markdown",
      "source": [
        "## Correlation"
      ],
      "metadata": {
        "id": "esKsbVBn7tXt"
      }
    },
    {
      "cell_type": "markdown",
      "source": [
        "# Regression Analysis"
      ],
      "metadata": {
        "id": "yY_wYxEN7vOe"
      }
    },
    {
      "cell_type": "markdown",
      "source": [
        "# Kesimpulan"
      ],
      "metadata": {
        "id": "ySH3zBZD764-"
      }
    },
    {
      "cell_type": "markdown",
      "source": [
        "Actionable Actions for Ashrae Energy:\n",
        "- Apa hayo"
      ],
      "metadata": {
        "id": "vVSwb6jj7-qI"
      }
    },
    {
      "cell_type": "markdown",
      "source": [
        "# Recommendation"
      ],
      "metadata": {
        "id": "wiKV4d7t778K"
      }
    }
  ]
}